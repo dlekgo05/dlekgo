{
 "cells": [
  {
   "cell_type": "markdown",
   "metadata": {},
   "source": [
    "keys() 딕셔너리 내의 모든 키를 반환\n",
    "values() 딕셔너리 내의 모든 값을 반환\n",
    "items() 딕셔너리 내의 모든 항목을 [키]:[값] 쌍으로 반환"
   ]
  },
  {
   "cell_type": "markdown",
   "metadata": {},
   "source": [
    "10.1\n",
    "넘파이(numpy):리스트에 비하여 처리속도가 매우 빠름데이터 분석의 위한 패키지인 판다스(Pandas)\n",
    "10.2\n",
    "넘파이는 성능이 우수한 ndarray객체를 제공\n",
    "ndarray는 n차원 배열을 의미=다차원배열\n",
    "ndarray 객체가 가진 장점\n",
    "- ndaaray는 c언어에 기반한 배열 구조이므로 메모리를 적게 차지하고 속도가 빠름\n",
    "- ndarray를 사용하면 배열과 배열 간에 수학적인 연산을 적용할 수 있다.\n",
    "- ndarray는 고급 연산자와 풍부한 함수들을 제공\n",
    "10.3\n",
    "넘파이 패키지를 불러오는 코드 호출\n",
    "- import numpy as np\n",
    "array()함수 : 넘파이 배열을 만들때 제공하는 함수"
   ]
  },
  {
   "cell_type": "code",
   "execution_count": 1,
   "metadata": {},
   "outputs": [
    {
     "data": {
      "text/plain": [
       "(array([ 11,  22,  33,  44,  55,  66,  77,  88,  99, 110]),\n",
       " array([ -9, -18, -27, -36, -45, -54, -63, -72, -81, -90]),\n",
       " array([  10,   40,   90,  160,  250,  360,  490,  640,  810, 1000]),\n",
       " array([0.1, 0.1, 0.1, 0.1, 0.1, 0.1, 0.1, 0.1, 0.1, 0.1]))"
      ]
     },
     "execution_count": 1,
     "metadata": {},
     "output_type": "execute_result"
    }
   ],
   "source": [
    "#도전문제10.1\n",
    "import numpy as np\n",
    "a = np.array(range(1, 11))\n",
    "b = np.array(range(10, 101, 10))\n",
    "\n",
    "a + b, a-b, a * b, a / b"
   ]
  },
  {
   "cell_type": "markdown",
   "metadata": {},
   "source": [
    "10.4\n",
    "ndim : 배열 축 혹은 차원의 개수\n",
    "shape : 배열의 차원으로 (m,n)형식의 튜플형이다.\n",
    "size : 배열 원소의 개수\n",
    "dtype : 배열내의 원소의 형을 기술하는 객체이다.\n",
    "itemsize : 배열내의 원소의 크기를 바이트 단위로 기술한다.\n",
    "data : 배열의 실제 원소를 포함하고 있는 버퍼\n",
    "stride : 배열 각 차원별로 다음 요소로 점프하는 데에 필요한 거리를 바이트로 표시한 값을 모은 튜플"
   ]
  },
  {
   "cell_type": "code",
   "execution_count": 40,
   "metadata": {},
   "outputs": [
    {
     "name": "stdout",
     "output_type": "stream",
     "text": [
      "(10,)\n",
      "10\n"
     ]
    }
   ],
   "source": [
    "#도전문제10.2\n",
    "a = np.array(range(1, 11)) + np.array(range(10, 101, 10))\n",
    "print(a.shape)\n",
    "print(a.size)"
   ]
  },
  {
   "cell_type": "code",
   "execution_count": 43,
   "metadata": {},
   "outputs": [
    {
     "name": "stdout",
     "output_type": "stream",
     "text": [
      "실습 1 : array_a = [0 1 2 3 4 5 6 7 8 9]\n",
      "실습 2 : array_b = [0 1 2 3 4 5 6 7 8 9]\n",
      "실습 3 : array_c = [0 2 4 6 8]\n",
      "실습 4 : \n",
      "array_c의 shape : (5,)\n",
      "array_c의 ndim : 1\n",
      "array_c의 ctype : int32\n",
      "array_c의 size : 5\n",
      "array_c의 itemsize : 4\n"
     ]
    }
   ],
   "source": [
    "#실습10.1\n",
    "import numpy as np\n",
    "\n",
    "array_a = np.array([0, 1, 2, 3, 4, 5, 6, 7, 8, 9])\n",
    "print(\"실습 1 : array_a =\", array_a)\n",
    "\n",
    "array_b = np.array(range(10))\n",
    "print(\"실습 2 : array_b =\", array_b)\n",
    "\n",
    "array_c = np.array(range(0, 10, 2))\n",
    "print(\"실습 3 : array_c =\", array_c)\n",
    "\n",
    "print(\"실습 4 : \")\n",
    "print('array_c의 shape :', array_c.shape)\n",
    "print('array_c의 ndim :', array_c.ndim)\n",
    "print('array_c의 ctype :', array_c.dtype)\n",
    "print('array_c의 size :', array_c.size)\n",
    "print('array_c의 itemsize :', array_c.itemsize)"
   ]
  },
  {
   "cell_type": "code",
   "execution_count": 46,
   "metadata": {},
   "outputs": [
    {
     "name": "stdout",
     "output_type": "stream",
     "text": [
      "대상자들의 키 : [1.83 1.76 1.69 1.86 1.77 1.73]\n",
      "대상자들의 몸무게 : [86 74 59 95 80 68]\n",
      "대상자들의 BMI\n",
      "[25.68007405 23.88946281 20.65754    27.45982194 25.53544639 22.72043837]\n"
     ]
    }
   ],
   "source": [
    "#실습10.2\n",
    "import numpy as np\n",
    "\n",
    "heights = [1.83, 1.76, 1.69, 1.86, 1.77, 1.73]\n",
    "weights = [86, 74, 59, 95, 80, 68]\n",
    "\n",
    "np_heights = np.array(heights)\n",
    "np_weights = np.array(weights)\n",
    "bmi = np_weights/(np_heights**2)\n",
    "\n",
    "print(\"대상자들의 키 :\", np_heights)\n",
    "print(\"대상자들의 몸무게 :\", np_weights)\n",
    "print(\"대상자들의 BMI\")\n",
    "print(bmi)\n"
   ]
  },
  {
   "cell_type": "markdown",
   "metadata": {},
   "source": [
    "10.6\n",
    "scores = np.array([88, 72, 93, 94, 89, 78, 99])\n",
    "\n",
    "인덱싱은 특정한 요소를 얻는 방법\n",
    "score[2]\n",
    ">>>93\n",
    "\n",
    "슬라이싱은 요소 집합을 얻는 방법\n",
    "score[1:4]\n",
    ">>>[72, 93, 94]\n",
    "\n",
    "scores[3:]\n",
    ">>> array([94, 89, 78, 99])\n",
    "\n",
    "scores[4:-1]\n",
    ">>> array([89, 78])"
   ]
  },
  {
   "cell_type": "markdown",
   "metadata": {},
   "source": [
    "10.7\n",
    "논리적인 인덱싱 : 어떤 조건을 주어서 배열에서 원하는 값을 추려내는 것\n",
    "\n",
    "ages = np.array([18, 19, 25, 30, 28])\n",
    "y = ages > 20\n",
    "print(y)\n",
    ">>> array([False, False,  True,  True,  True])\n",
    "\n",
    "ages[ ages > 20 ]\n",
    ">>> array([25, 30, 28])"
   ]
  },
  {
   "cell_type": "markdown",
   "metadata": {},
   "source": [
    "10.8\n",
    "파이썬의 2차원 리스트 : 리스트 안에 다른 리스트가 들어있는 형태\n",
    "넘파이 2차원배열은 np.array()를 호출하여 생성\n",
    "\n",
    "import numpy as np\n",
    "y = [[1, 2, 3], [4, 5, 6], [7, 8, 9]] # 2차원 배열(리스트 자료형)\n",
    "\n",
    "np_array = np.array(y) # 2차원 배열(넘파이 다차원 배열)\n",
    "np_array\n",
    ">>>\n",
    "array([[1, 2, 3],\n",
    "       [4, 5, 6],\n",
    "       [7, 8, 9]])\n",
    "\n",
    "np_array[0][2]\n",
    ">> 3"
   ]
  },
  {
   "cell_type": "markdown",
   "metadata": {},
   "source": [
    "10.9\n",
    "넘파이의 2차원배열에서 인덱스 표기법 \n",
    "리스트 스타일 np_array[0][2]\n",
    "넘파이 스타일 np_array[0, 2]\n",
    "- 두 스타일 다 사용가능하다\n",
    "넘파이 배열은 파이썬 리스트와 달리 모든 항목이 동일한 자료형을 가진다.\n",
    "\n",
    "np_array[2, 2] = 1.234 # 마지막 요소의 값을 실수로 변경하려고 하면 실패\n",
    "np_array\n",
    ">>\n",
    "array([[12,  2,  3],\n",
    "       [ 4,  5,  6],\n",
    "       [ 7,  8,  1]])\n",
    "자료형이 달라 바뀌지 않는다."
   ]
  },
  {
   "cell_type": "markdown",
   "metadata": {},
   "source": [
    "10.10\n",
    "np_array = np.array([[1,2,3,4], [5,6,7,8], [9,10,11,12], [13,14,15,16]])\n",
    "\n",
    "np_array[0:2, 2:4]\n",
    ">>\n",
    "array([[3, 4],\n",
    "       [7, 8]])\n",
    "\n",
    "print(np_array[::2][::2])\n",
    ">> [[1 2 3 4]]\n",
    "\n",
    "print(np_array[::2, ::2])\n",
    ">>\n",
    "[[ 1  3]\n",
    " [ 9 11]]"
   ]
  },
  {
   "cell_type": "markdown",
   "metadata": {},
   "source": [
    "10.11\n",
    "np_array = np.array([[1,2,3], [4,5,6], [7,8,9]])\n",
    "\n",
    "np_array > 5\n",
    ">>\n",
    "array([[False, False, False],\n",
    "       [False, False,  True],\n",
    "       [ True,  True,  True]])\n",
    "\n",
    "np_array[np_array > 5]\n",
    ">> array([6, 7, 8, 9])\n",
    "\n",
    "\n",
    "np_array[:, 2]\n",
    ">> array([3, 6, 9])\n",
    "\n",
    "np_array[:, 2] > 5\n",
    ">> array([False,  True,  True])\n",
    "\n",
    "\n",
    "np_array[:] % 2 == 0\n",
    ">>\n",
    "array([[False,  True, False],\n",
    "       [ True, False,  True],\n",
    "       [False,  True, False]])\n",
    "\n",
    "np_array[np_array % 2 == 0]\n",
    ">> array([2, 4, 6, 8])"
   ]
  },
  {
   "cell_type": "code",
   "execution_count": 47,
   "metadata": {},
   "outputs": [
    {
     "name": "stdout",
     "output_type": "stream",
     "text": [
      "['c' 'c' 'c']\n",
      "[[ 8 18 28]\n",
      " [ 9 18 27]]\n"
     ]
    }
   ],
   "source": [
    "#실습10.3\n",
    "x = np.array( [['a', 'b', 'c', 'd'], ['c', 'c', 'g', 'h']] )\n",
    "\n",
    "mat_a = np.array( [[10, 20, 30], [10, 20, 30]] )\n",
    "mat_b = np.array( [[2, 2, 2], [1, 2, 3]])\n",
    "\n",
    "print(x [x == 'c'])\n",
    "print(mat_a - mat_b)"
   ]
  },
  {
   "cell_type": "markdown",
   "metadata": {},
   "source": [
    "10.4\n",
    "ndim : 배열 축 혹은 차원의 개수\n",
    "shape : 배열의 차원으로 (m,n)형식의 튜플형이다.\n",
    "size : 배열 원소의 개수\n",
    "dtype : 배열내의 원소의 형을 기술하는 객체이다.\n",
    "itemsize : 배열내의 원소의 크기를 바이트 단위로 기술한다.\n",
    "data : 배열의 실제 원소를 포함하고 있는 버퍼\n",
    "stride : 배열 각 차원별로 다음 요소로 점프하는 데에 필요한 거리를 바이트로 표시한 값을 모은 튜플"
   ]
  },
  {
   "cell_type": "code",
   "execution_count": 9,
   "metadata": {},
   "outputs": [
    {
     "name": "stdout",
     "output_type": "stream",
     "text": [
      "x shape : (2, 6)\n",
      "y shape : (2, 2)\n",
      "z shape : (1, 6)\n",
      "z values : [[86. 74. 59. 95. 80. 68.]]\n",
      "BMI data\n",
      "[25.68007405 23.88946281 20.65754    27.45982194 25.53544639 22.72043837]\n"
     ]
    }
   ],
   "source": [
    "#실습10.4\n",
    "import numpy as np\n",
    "\n",
    "x = np.array([[1.83, 1.76, 1.69, 1.86, 1.77, 1.73], [86.0, 74.0, 59.0, 95.0, 80.0, 68.0]])\n",
    "y = x[0:2, 1:3]\n",
    "z = x[0:2][1:3]\n",
    "\n",
    "print(\"x shape :\", x.shape)\n",
    "print(\"y shape :\", y.shape)\n",
    "print(\"z shape :\", z.shape)\n",
    "print(\"z values :\", z)\n",
    "print(\"BMI data\")\n",
    "bmi = x[1] / x[0]**2\n",
    "print(bmi)\n"
   ]
  },
  {
   "cell_type": "code",
   "execution_count": 1,
   "metadata": {},
   "outputs": [
    {
     "name": "stdout",
     "output_type": "stream",
     "text": [
      "몸무게가 80 이상인 선수 정보\n",
      "[[183.   86.2]\n",
      " [176.   80.1]]\n",
      "키가 180 이상인 선수 정보\n",
      "[[183.   86.2]\n",
      " [181.   78.5]]\n"
     ]
    }
   ],
   "source": [
    "#10.5\n",
    "import numpy as np\n",
    "\n",
    "players = [[170, 76.4],\n",
    "           [183, 86.2],\n",
    "           [181, 78.5],\n",
    "           [176, 80.1]]\n",
    "\n",
    "np_players = np.array(players)\n",
    "\n",
    "print(\"몸무게가 80 이상인 선수 정보\")\n",
    "print(np_players[np_players[:,1] >= 80.0])\n",
    "print('키가 180 이상인 선수 정보')\n",
    "print(np_players[np_players[:,0]>= 180])"
   ]
  },
  {
   "cell_type": "markdown",
   "metadata": {},
   "source": [
    "10.12\n",
    "arange()함수 : 특정한 범위의 정수를 가지는 넘파이 배열을 쉽게 만들수 있다\n",
    "numpy.arange([start], stop, [step])\n",
    "- start : 데이터 생성을 시작할 값(생략시 0으로 처리됨)\n",
    "- stop : 데이터 생성을 멈출 값으로 생략할 수 없음 데이터는 stop-1 까지 생성된다\n",
    "- step : 데이터 생성 간격(생략시 1로 처리됨)\n",
    "\n",
    "np.array(range(5)) = np.arange(5) = array([0, 1, 2, 3, 4])\n",
    "\n",
    "import numpy as np\n",
    "np.arange(5)\n",
    ">> array([0, 1, 2, 3, 4])\n",
    "\n",
    "np.array(range(5))\n",
    ">> array([0, 1, 2, 3, 4])\n",
    "\n",
    "\n",
    "\n",
    "range(5)\n",
    ">> range(0, 5)\n",
    "\n",
    "range(0, 5, 2)\n",
    ">> range(0, 5, 2)\n",
    "\n",
    "list(range(5))\n",
    ">> [0, 1, 2, 3, 4]"
   ]
  },
  {
   "cell_type": "markdown",
   "metadata": {},
   "source": [
    "10.13\n",
    "numpy.linspace(start, stop, num=50)\n",
    "inspace()는 시작값부터 끝값까지 균일한 간격으로 지정된 개수만큼의 배열을 생성한다.\n",
    "ex) np.linspace(0, 10, 100) # 0에서 10까지 총 100개의 수들이 생성\n",
    "\n",
    "numpy.logspace(start, stop, num=50)\n",
    "logspace(x, y, n)\n",
    "10^x 부터 10^y까지가 되며, n개의 수가 생성"
   ]
  },
  {
   "cell_type": "markdown",
   "metadata": {},
   "source": [
    "10.14\n",
    "reshape() 함수는 데이터의 개수는 유지한 채로 배열의 차원과 형태를 변경한다.\n",
    "\n",
    "import numpy as np\n",
    "y = np.arange(12)\n",
    "y\n",
    ">> array([ 0,  1,  2,  3,  4,  5,  6,  7,  8,  9, 10, 11])\n",
    "\n",
    "# 1차원 배열이 3행 4열의 2차원 배열로 바뀜\n",
    "y.reshape(3, 4) \n",
    ">>\n",
    "array([[ 0,  1,  2,  3],\n",
    "       [ 4,  5,  6,  7],\n",
    "       [ 8,  9, 10, 11]])\n",
    "\n",
    "만약 인수로 -1을 전달하면 데이터의 개수에 맞춰서 자동으로 배열의 형태가 결정된다.\n",
    "y.reshape(6, -1)\n",
    ">>\n",
    "array([[ 0,  1],\n",
    "       [ 2,  3],\n",
    "       [ 4,  5],\n",
    "       [ 6,  7],\n",
    "       [ 8,  9],\n",
    "       [10, 11]])\n",
    "\n",
    "\n",
    "flatten()은 평탄화 함수로 2차원 이상의 고차원 배열을 1차원 배열로 만들어 준다.\n",
    "# 2차원 배열을 1차원 배열로 만들어 준다\n",
    "y.flatten() \n",
    ">> array([ 0,  1,  2,  3,  4,  5,  6,  7,  8,  9, 10, 11])\n"
   ]
  },
  {
   "cell_type": "markdown",
   "metadata": {},
   "source": [
    "10.15\n",
    "난수(random number) 특정한 패턴이 존재하지 않는다는 특징을 가지고 출현하는 수\n",
    "\n",
    "10.16\n",
    "시드는 컴퓨터로 만드는 난수의 초기 입력값으로 사용된다. \n",
    "넘파이에서 난수의 시드를 설정하는 문장\n",
    "np.random.seed(100)\n",
    "의사난수 : 컴퓨터가 규칙을 가지고 생성한 수로 정확한 의미의 난수는 아니지만 난수에 가까운 수\n",
    "\n",
    "# 10에서 20 사이에 있는 난수 5개를 생성\n",
    "a = 10\n",
    "b = 20\n",
    "(b - a) * np.random.rand(5) + a \n",
    ">> array([14.31704184, 19.4002982 , 18.17649379, 13.3611195 , 11.75410454])\n",
    "\n",
    "1부터 7사이에 난수를 10개\n",
    "np.random.randint(1, 7, size=10)\n",
    "\n",
    "4*7인 2차원배열을 1부터 10사이의 정수 난수\n",
    "np.random.randint(1, 11, size=(4, 7))"
   ]
  },
  {
   "cell_type": "markdown",
   "metadata": {},
   "source": [
    "10.17\n",
    "np.random.randn(5)\n",
    ">> array([-1.02933685, -0.51099219, -2.36027053,  0.10359513,  1.73881773])\n",
    "\n",
    "# 5행 4열의 난수를 생성\n",
    "np.random.randn(5, 4)\n",
    ">>\n",
    "array([[ 1.24187584,  0.13241276,  0.57779396, -1.57590571],\n",
    "       [-1.29279424, -0.65991979, -0.87400478, -0.68955061],\n",
    "       [-0.53547985,  1.52795302,  0.64720579, -0.67733661],\n",
    "       [-0.2650188 ,  0.74610644, -3.13078483,  0.05962178],\n",
    "       [-0.87521111,  1.06487833, -0.57315265, -0.80327849]])\n",
    "\n",
    "# 평균이 10이고 표준편차 값이 2인 정규분포를 가지는 난수\n",
    "mu = 10\n",
    "sigma = 2\n",
    "randoms = mu + sigma * np.random.randn(5, 4)\n",
    "randoms\n",
    ">>\n",
    "array([[12.18594325, 11.30255516, 14.32104958,  8.72173986],\n",
    "       [ 9.33262494,  9.12479628,  6.18841024,  7.54196134],\n",
    "       [11.58979772,  7.67898372, 11.09211104, 12.32651667],\n",
    "       [11.31775404, 11.04737852, 12.65431215, 12.22504894],\n",
    "       [ 7.85074079, 10.68683233, 11.97087508, 11.47300336]])\n"
   ]
  },
  {
   "cell_type": "markdown",
   "metadata": {},
   "source": [
    "10.18\n",
    "\n",
    "mean() 함수는 넘파이 패키지가 가지고 있는 평균을 계산하는 함수이다.\n",
    "np.mean(heights)\n",
    ">> 174.9972570108985\n",
    "\n",
    "중앙값이란 리스트의 중앙에 있는 항목이다.\n",
    "np.median(heights)\n",
    ">> 174.90487455543172\n"
   ]
  },
  {
   "cell_type": "code",
   "execution_count": 18,
   "metadata": {},
   "outputs": [
    {
     "name": "stdout",
     "output_type": "stream",
     "text": [
      "신장 평균값: 174.48848199693887\n",
      "신장 중앙값: 173.27405126890315\n",
      "체중 평균값: 68.99349924420262\n",
      "체중 중앙값: 69.17136363152672\n",
      "나이 평균값: 22.18\n",
      "나이 중앙값: 23.0\n"
     ]
    }
   ],
   "source": [
    "#10.6\n",
    "import numpy as np\n",
    "\n",
    "players = np.zeros((100, 3))\n",
    "players[:, 0] = 10 * np.random.randn(100)+175\n",
    "players[:, 1] = 10 * np.random.randn(100)+70\n",
    "players[:, 2] = np.floor(10 * np.random.randn(100))+22\n",
    "\n",
    "heights = players[:, 0]\n",
    "print('신장 평균값:', np.mean(heights))\n",
    "print('신장 중앙값:', np.median(heights))\n",
    "\n",
    "weights = players[:, 1]\n",
    "print('체중 평균값:', np.mean(weights))\n",
    "print('체중 중앙값:', np.median(weights))\n",
    "\n",
    "ages = players[:, 2]\n",
    "print('나이 평균값:', np.mean(ages))\n",
    "print('나이 중앙값:', np.median(ages))\n",
    "\n"
   ]
  },
  {
   "cell_type": "markdown",
   "metadata": {},
   "source": [
    "10.19\n",
    "corrcoef() 함수가 계산하는 상관관계의 수학적 정의\n",
    "\n",
    "뭔소린지 모르겠음"
   ]
  },
  {
   "cell_type": "markdown",
   "metadata": {},
   "source": [
    "10.20\n",
    "\n",
    "이것도 마찬가지로 모르겠음"
   ]
  },
  {
   "cell_type": "markdown",
   "metadata": {},
   "source": [
    "핵심정리\n",
    "\n",
    "넘파이는 리스트가 아니라 배열로 다차원 데이터를 다룬다\n",
    "\n",
    "배열은 동일한 자료형을 연속해서 가진 데이터 구조로 읽고 쓰는 일을 빠르게 할 수 있다\n",
    "\n",
    "리스트와 달리 넘파이 배열들을 서로 연산하면 벡터와 행렬처럼 다루어진다\n",
    "\n",
    "넘파이 배열도 리스트와 다른 반복가능 객체처럼 슬라이싱을 적용할 수 있다\n",
    "\n",
    "넘파이는 넘파이만의 스타일로 슬라이싱을 할 수 있으며, 리스트 등과 다른 방식의 결과가 나온다\n",
    "\n",
    "슬라이싱과 별개로 논리적 조건을 부여하여 항목을 가져오는 일도 가능하다"
   ]
  },
  {
   "cell_type": "code",
   "execution_count": null,
   "metadata": {},
   "outputs": [],
   "source": []
  },
  {
   "cell_type": "code",
   "execution_count": null,
   "metadata": {},
   "outputs": [],
   "source": []
  }
 ],
 "metadata": {
  "kernelspec": {
   "display_name": "Python 3",
   "language": "python",
   "name": "python3"
  },
  "language_info": {
   "codemirror_mode": {
    "name": "ipython",
    "version": 3
   },
   "file_extension": ".py",
   "mimetype": "text/x-python",
   "name": "python",
   "nbconvert_exporter": "python",
   "pygments_lexer": "ipython3",
   "version": "3.11.5"
  }
 },
 "nbformat": 4,
 "nbformat_minor": 2
}
