{
 "cells": [
  {
   "cell_type": "markdown",
   "metadata": {},
   "source": [
    "# (2)차 숙제\n",
    "## 이름: 이다해\n",
    "## 학번: 20244281\n"
   ]
  },
  {
   "cell_type": "markdown",
   "metadata": {},
   "source": [
    "1.  3 단원에서  배운 것 요약 정리 하기\n",
    "    1) 수식은 피연산자와 연산자로 이루어진다.\n",
    "    2) 덧셈, 뺄셈, 곱셈, 나눗셈을 위하여 +, ,*, / 기호를 사용한다.\n",
    "    3) 지수 연산자는 **이다.\n",
    "    4) 나눗셈에서 몫을 계산하려면 // 연산자를 사용한다.\n",
    "    5) 나눗셈에서 나머지를 계산하려면 % 연산자를 사용한다.\n",
    "    6) 복합 연산자는 할당 연산자와 각종 산술 연산자를 합쳐놓은 것이다.\n",
    "    7) 우선순위가 높은 연산자가 먼저 계산되며, 연산자의 우선 순서를 변경하려면 괄호를 사용한다.\n",
    "    8) 비트단위의 값을 조작하는 비트연산자를 제공한다.\n",
    "    9) 단항 연산자들은 이 연산자보다 우선순위가 높다.\n",
    "    10) 파이썬은 random, math 모듈과 같은 모듈을 import하여 다양한 함수를 이용할 수 있다.\n",
    "2. 4 단원에서  배운 것 요약 정리 하기\n",
    "    1) 제어문이란 프로그램의 순차적 흐름이 아닌 조건에 맞는 실행과 반복을 하는 명령문이다.\n",
    "    2) 조건문이란 프로그래머가 명시한 특정 조건을 만족할 때에만 특정 블록이 실행되도록 하는 문법이다.\n",
    "    3) 조건문의 키워드인 if, elif의 다음에는 조건식이 나타나고 바로 이어서 실행문 블록이 시작되기 전에 콜론(:)을 표시한다. 그리고 실행문 블록은 조건문의 키워드보다 들여쓰기를 해서 작성한다.\n",
    "    4) 조건식은 부울형인 참(True)과 거짓(False)의 값을 가질 수 있다.\n",
    "    5) 블록은 같은 실행 흐름에서 순서대로 실행되는 코드이 집합을 의미한다.\n",
    "    6) 조건문에서 실행문 블록은 반드시 들여쓰기를 해주어야 한다.\n",
    "    7) if-elif-else 문에서 if 문의 조건식을 제일 먼저 조사하고, if 문의 조건식이 참이 아닐 때, elif 조건식을 검사하고, elif 문의 조건식도 참이 아닐 때에는 마지막으로 elif 문의 블록을 실행한다."
   ]
  },
  {
   "cell_type": "markdown",
   "metadata": {},
   "source": [
    "1. 3단원에서 가장 중요하다고 생각하는 것을 5개\n",
    "   1) 수학의 수식과 프로그래밍의 수식은 다른 개념이다.\n",
    "   2) 할당 연산자와 변수의 선언\n",
    "   3) 두 개의 문자로 된 비교 연산자는 그 묶음 그대로가 하나의 연산자이다.\n",
    "   4) 연산자 사이에도 먼저 처리하는 우선순위가 있다.\n",
    "   5) 더하기, 빼기, 곱하기, 나누기 등의 산술 연산자\n",
    "2. 4단원에서 가장 중요하다고 생각하는 것을 5개\n",
    "   1) 대입 연산자 =와 관계 연산자 ==는 다른 연산자이다.\n",
    "   2) 지나친 들여쓰기는 코드를 읽기 어렵게 만든다.\n",
    "   3) if문은 조건이 맞을 떄만 실행된다.\n",
    "   4) 츠로그램의 기본 제어 구조는 크게 세 가지가 있다.\n",
    "   5) 순차적 실행이 아닌 조건에 따라 수행되는 제어문도 있다."
   ]
  },
  {
   "cell_type": "markdown",
   "metadata": {},
   "source": [
    "# 심화문제 "
   ]
  },
  {
   "cell_type": "markdown",
   "metadata": {},
   "source": [
    "## 3.1"
   ]
  },
  {
   "cell_type": "code",
   "execution_count": 1,
   "metadata": {},
   "outputs": [
    {
     "name": "stdout",
     "output_type": "stream",
     "text": [
      "a   n   a**n\n",
      "2   2   4\n",
      "3   2   9\n",
      "4   2   16\n",
      "5   2   25\n",
      "6   2   36\n"
     ]
    }
   ],
   "source": [
    "print(\"a\", ' ',\"n\", ' ',\"a**n\")\n",
    "for a in range(2, 7, 1):\n",
    "    n=2   \n",
    "    print(a, ' ', n, ' ', a**n)"
   ]
  },
  {
   "cell_type": "markdown",
   "metadata": {},
   "source": [
    "## 3.2"
   ]
  },
  {
   "cell_type": "code",
   "execution_count": 2,
   "metadata": {},
   "outputs": [
    {
     "name": "stdout",
     "output_type": "stream",
     "text": [
      "2 의 제곱근 =  1.4142135623730951\n",
      "3 의 제곱근 =  1.7320508075688772\n",
      "4 의 제곱근 =  2.0\n",
      "5 의 제곱근 =  2.23606797749979\n",
      "6 의 제곱근 =  2.449489742783178\n",
      "7 의 제곱근 =  2.6457513110645907\n",
      "8 의 제곱근 =  2.8284271247461903\n",
      "9 의 제곱근 =  3.0\n",
      "10 의 제곱근 =  3.1622776601683795\n"
     ]
    }
   ],
   "source": [
    "for number in range(2, 11, 1):\n",
    "    print(number, \"의 제곱근 = \", number**0.5)"
   ]
  },
  {
   "cell_type": "markdown",
   "metadata": {},
   "source": [
    "## 3.3"
   ]
  },
  {
   "cell_type": "code",
   "execution_count": 3,
   "metadata": {},
   "outputs": [
    {
     "name": "stdout",
     "output_type": "stream",
     "text": [
      "2 4 8 16 32 64 128 256 512 1024\n"
     ]
    }
   ],
   "source": [
    "num = 2\n",
    "print(2, 2<<1, 2<<2, 2<<3, 2<<4, 2<<5, 2<<6, 2<<7, 2<<8, 2<<9)"
   ]
  },
  {
   "cell_type": "markdown",
   "metadata": {},
   "source": [
    "## 3.4"
   ]
  },
  {
   "cell_type": "code",
   "execution_count": 4,
   "metadata": {},
   "outputs": [
    {
     "name": "stdout",
     "output_type": "stream",
     "text": [
      "입력된 정수는 0에서 100의 범위 안에 있는 짝수 인가요? True\n",
      "입력된 정수는 0에서 100의 범위 안에 있는 짝수 인가요? False\n"
     ]
    }
   ],
   "source": [
    "number1 =int(input(\"정수를 입력하세요: \"))\n",
    "print('입력된 정수는 0에서 100의 범위 안에 있는 짝수 인가요?', 0 <= number1 and number1 <= 100 and number1%2 == 0)\n",
    "number2 =int(input('정수를 입력하세요: '))\n",
    "print('입력된 정수는 0에서 100의 범위 안에 있는 짝수 인가요?', 0 <= number2 and number2 <= 100 and number2%2 == 0)\n"
   ]
  },
  {
   "cell_type": "markdown",
   "metadata": {},
   "source": [
    "## 3.5"
   ]
  },
  {
   "cell_type": "code",
   "execution_count": 5,
   "metadata": {},
   "outputs": [
    {
     "name": "stdout",
     "output_type": "stream",
     "text": [
      "0b101 & 0b110 =  0b100\n",
      "0b101 | 0b110 =  0b111\n",
      "0b101 ^ 0b110 =  0b11\n"
     ]
    }
   ],
   "source": [
    "print('0b101 & 0b110 = ', bin(0b101 & 0b110))\n",
    "print('0b101 | 0b110 = ', bin(0b101 | 0b110))\n",
    "print('0b101 ^ 0b110 = ', bin(0b101 ^ 0b110))"
   ]
  },
  {
   "cell_type": "markdown",
   "metadata": {},
   "source": [
    "## 3.6"
   ]
  },
  {
   "cell_type": "code",
   "execution_count": 6,
   "metadata": {},
   "outputs": [
    {
     "name": "stdout",
     "output_type": "stream",
     "text": [
      "a / b의 몫 :  2\n",
      "a / b의 나머지 :  1\n"
     ]
    }
   ],
   "source": [
    "a = int(input('정수 a를 입력하시오 : '))\n",
    "b = int(input('정수 b를 입력하시오 : '))\n",
    "print('a / b의 몫 : ', a // b)\n",
    "print('a / b의 나머지 : ', a % b)"
   ]
  },
  {
   "cell_type": "markdown",
   "metadata": {},
   "source": [
    "## 3.7"
   ]
  },
  {
   "cell_type": "code",
   "execution_count": 7,
   "metadata": {},
   "outputs": [
    {
     "name": "stdout",
     "output_type": "stream",
     "text": [
      "5\n",
      "3\n",
      "6\n"
     ]
    }
   ],
   "source": [
    "number = int(input('세 자리 정수 입력'))\n",
    "print(number // 100)\n",
    "print((number%100) // 10)\n",
    "print(number % 10)"
   ]
  },
  {
   "cell_type": "markdown",
   "metadata": {},
   "source": [
    "## 3.8"
   ]
  },
  {
   "cell_type": "code",
   "execution_count": 8,
   "metadata": {},
   "outputs": [
    {
     "name": "stdout",
     "output_type": "stream",
     "text": [
      "9\n",
      "4\n",
      "2\n"
     ]
    }
   ],
   "source": [
    "number = int(input('세 자리 정수 입력하시오 : '))\n",
    "print(number % 10)\n",
    "print((number%100) // 10)\n",
    "print(number // 100)"
   ]
  },
  {
   "cell_type": "code",
   "execution_count": 9,
   "metadata": {},
   "outputs": [
    {
     "name": "stdout",
     "output_type": "stream",
     "text": [
      "4 6 2\n"
     ]
    }
   ],
   "source": [
    "number = int(input('세 자리 정수를 입력하시오 : '))\n",
    "print(number % 10,((number%100) // 10),(number // 100))"
   ]
  },
  {
   "cell_type": "markdown",
   "metadata": {},
   "source": [
    "## 3.9"
   ]
  },
  {
   "cell_type": "code",
   "execution_count": 10,
   "metadata": {},
   "outputs": [
    {
     "name": "stdout",
     "output_type": "stream",
     "text": [
      "평균 시속 :  km/h\n",
      "이동 시간 :  시간 분 초\n",
      "이동 거리 :  160.0 km\n"
     ]
    }
   ],
   "source": [
    "s = float(input('평균 시속(km/h)을 입력하세요 : '))\n",
    "h = float(input('이동시간(h)을 입력하세요 : '))\n",
    "\n",
    "print('평균 시속 : ',  'km/h')\n",
    "print('이동 시간 : ',  '시간', '분',  '초')\n",
    "print('이동 거리 : ', s*h, 'km')"
   ]
  },
  {
   "cell_type": "markdown",
   "metadata": {},
   "source": [
    "## 3.10"
   ]
  },
  {
   "cell_type": "code",
   "execution_count": 11,
   "metadata": {},
   "outputs": [
    {
     "name": "stdout",
     "output_type": "stream",
     "text": [
      "두 점의 거리 =  8.06225774829855\n"
     ]
    }
   ],
   "source": [
    "x1 = int(input('x1 좌표를 입력하시오 : '))\n",
    "y1 = int(input('y1 좌표를 입력하시오 : '))\n",
    "x2 = int(input('x2 좌표를 입력하시오 : '))\n",
    "y2 = int(input('y2 좌표를 입력하시오 : '))\n",
    "거리 = (((x1 - x2)**2) + ((y1 - y2)**2))**(1/2)\n",
    "print(\"두 점의 거리 = \", 거리)"
   ]
  },
  {
   "cell_type": "markdown",
   "metadata": {},
   "source": [
    "## 3.11"
   ]
  },
  {
   "cell_type": "code",
   "execution_count": 12,
   "metadata": {},
   "outputs": [
    {
     "name": "stdout",
     "output_type": "stream",
     "text": [
      " 직각삼각형의 면적은 :  0.5\n"
     ]
    }
   ],
   "source": [
    "x1 = int(input('x1 좌표를 입력하시오 : '))\n",
    "y1 = int(input('y1 좌표를 입력하시오 : '))\n",
    "x2 = int(input('x2 좌표를 입력하시오 : '))\n",
    "y2 = int(input('y2 좌표를 입력하시오 : '))\n",
    "면적 = (x2 * y2)*(1/2)-(x1 * y1)*(1/2)\n",
    "print(\" 직각삼각형의 면적은 : \",면적)"
   ]
  },
  {
   "cell_type": "markdown",
   "metadata": {},
   "source": [
    "## 3.12"
   ]
  },
  {
   "cell_type": "code",
   "execution_count": 13,
   "metadata": {},
   "outputs": [
    {
     "name": "stdout",
     "output_type": "stream",
     "text": [
      "216\n"
     ]
    }
   ],
   "source": [
    "s = int(input('모서리의 길이: '))\n",
    "print(s**3)"
   ]
  },
  {
   "cell_type": "code",
   "execution_count": 14,
   "metadata": {},
   "outputs": [
    {
     "name": "stdout",
     "output_type": "stream",
     "text": [
      "27\n"
     ]
    }
   ],
   "source": [
    "s = int(input('모서리의 길이: '))\n",
    "print(s**3)"
   ]
  },
  {
   "cell_type": "code",
   "execution_count": 15,
   "metadata": {},
   "outputs": [
    {
     "name": "stdout",
     "output_type": "stream",
     "text": [
      "144\n"
     ]
    }
   ],
   "source": [
    "가로 = int(input('가로의 길이: '))\n",
    "세로 = int(input('세로의 길이: '))\n",
    "깊이 = int(input('깊이의 길이: '))\n",
    "print(가로*세로*깊이)"
   ]
  },
  {
   "cell_type": "code",
   "execution_count": 16,
   "metadata": {},
   "outputs": [
    {
     "name": "stdout",
     "output_type": "stream",
     "text": [
      "반지름과 높이가 각각 5 6 인 원뿔의 부피 157.0\n"
     ]
    }
   ],
   "source": [
    "r = int(input('원뿔의 반지름: '))\n",
    "h = int(input('원뿔의 높이: '))\n",
    "print('반지름과 높이가 각각', r, h, '인 원뿔의 부피', 1/3*3.14*r*r*h)"
   ]
  },
  {
   "cell_type": "code",
   "execution_count": 17,
   "metadata": {},
   "outputs": [
    {
     "name": "stdout",
     "output_type": "stream",
     "text": [
      "반지름이 4 인 구의 부피 267.94666666666666\n"
     ]
    }
   ],
   "source": [
    "r = int(input('구의 반지름: '))\n",
    "print('반지름이', r, '인 구의 부피', (4/3)*(3.14)*r*r*r)"
   ]
  },
  {
   "cell_type": "code",
   "execution_count": 18,
   "metadata": {},
   "outputs": [
    {
     "name": "stdout",
     "output_type": "stream",
     "text": [
      "반지름과 높이가 각각 3 6 인 원기둥의 부피 169.56\n"
     ]
    }
   ],
   "source": [
    "r = int(input('원기둥의 반지름: '))\n",
    "h = int(input('원기둥의 높이: '))\n",
    "print('반지름과 높이가 각각', r, h, '인 원기둥의 부피', 3.14*r*r*h)"
   ]
  },
  {
   "cell_type": "markdown",
   "metadata": {},
   "source": [
    "## 4.1"
   ]
  },
  {
   "cell_type": "code",
   "execution_count": 1,
   "metadata": {},
   "outputs": [
    {
     "name": "stdout",
     "output_type": "stream",
     "text": [
      "a (은)는 모음입니다.\n"
     ]
    }
   ],
   "source": [
    "x = input('알파벳을 입력하시오 : ')\n",
    "if x=='a' or x=='e' or x=='i' or x=='o' or x=='u':\n",
    "    print(x, '(은)는 모음입니다.')\n",
    "else:\n",
    "    print(x, '(은)는 자음입니다.')"
   ]
  },
  {
   "cell_type": "markdown",
   "metadata": {},
   "source": [
    "## 4.2"
   ]
  },
  {
   "cell_type": "code",
   "execution_count": 2,
   "metadata": {},
   "outputs": [
    {
     "name": "stdout",
     "output_type": "stream",
     "text": [
      "5 4 2\n"
     ]
    }
   ],
   "source": [
    "a, b, c = map(int, input('세 정수를 입력하시오 : ').split())\n",
    "if b>a and b>c:\n",
    "    a,b = b,a\n",
    "if c>a and c>b:\n",
    "    a,c = c,a\n",
    "if c>b:\n",
    "    b,c = c,b\n",
    "print(a,b,c)"
   ]
  },
  {
   "cell_type": "markdown",
   "metadata": {},
   "source": [
    "## 4.3"
   ]
  },
  {
   "cell_type": "code",
   "execution_count": 3,
   "metadata": {},
   "outputs": [
    {
     "name": "stdout",
     "output_type": "stream",
     "text": [
      "Youth\n"
     ]
    }
   ],
   "source": [
    "age = int(input('나이를 입력하시오: '))\n",
    "\n",
    "if age >= 20:\n",
    "    print(\"Adult\")\n",
    "elif age >= 10 and age<20:\n",
    "    print(\"Youth\")\n",
    "else:\n",
    "    print(\"Kid\")"
   ]
  },
  {
   "cell_type": "markdown",
   "metadata": {},
   "source": [
    "## 4.4"
   ]
  },
  {
   "cell_type": "code",
   "execution_count": 4,
   "metadata": {},
   "outputs": [
    {
     "name": "stdout",
     "output_type": "stream",
     "text": [
      "6 는(은) 2로 나누어 집니다.\n",
      "6 는(은) 3으로 나누어 집니다.\n",
      "6 는(은) 2와(과) 3 모두로 나누어 집니다.\n"
     ]
    }
   ],
   "source": [
    "x = int(input('정수를 입력하시오: '))\n",
    "\n",
    "if x % 2 ==0:\n",
    "    print(x, '는(은) 2로 나누어 집니다.')\n",
    "else:\n",
    "    print(x, '는(은) 2로 나누어지지 않습니다.')\n",
    "\n",
    "if x % 3 ==0:\n",
    "    print(x, '는(은) 3으로 나누어 집니다.')\n",
    "else:\n",
    "    print(x, '는(은) 3으로 나누어지지 않습니다.')\n",
    "\n",
    "if x%2==0 and x%3==0:\n",
    "    print(x, '는(은) 2와(과) 3 모두로 나누어 집니다.')\n",
    "else:\n",
    "    print(x, '는(은) 2와(과) 3 모두로 나누어지지 않습니다.')"
   ]
  },
  {
   "cell_type": "markdown",
   "metadata": {},
   "source": [
    "## 4.5"
   ]
  },
  {
   "cell_type": "code",
   "execution_count": 5,
   "metadata": {},
   "outputs": [
    {
     "name": "stdout",
     "output_type": "stream",
     "text": [
      "세 복권번호를 입력하시오: 1 5 7\n",
      "당첨 번호:  [5, 7, 2]\n",
      "상금 1천만원\n"
     ]
    }
   ],
   "source": [
    "import random\n",
    "input_nums = list(map(int, input(\"세 복권번호를 입력하시오: \").split()))\n",
    "nums = []\n",
    "for i in range(3):\n",
    "    n = random.randint(0, 9)\n",
    "    while n in nums:\n",
    "        n = random.randint(0, 9)\n",
    "    nums.append(n)\n",
    "\n",
    "print(\"당첨 번호: \", nums)\n",
    "\n",
    "a = 0\n",
    "\n",
    "for i in range(3):\n",
    "    if input_nums[i] in nums:\n",
    "        a += 1\n",
    "\n",
    "if a == 0:\n",
    "    print(\"다음 기회에...\")\n",
    "elif a == 1:\n",
    "    print(\"상금 1만원\")\n",
    "elif a == 2:\n",
    "    print(\"상금 1천만원\")\n",
    "else:\n",
    "    print(\"상금 1억원\")"
   ]
  },
  {
   "cell_type": "markdown",
   "metadata": {},
   "source": [
    "## 4.6"
   ]
  },
  {
   "cell_type": "code",
   "execution_count": 3,
   "metadata": {},
   "outputs": [
    {
     "name": "stdout",
     "output_type": "stream",
     "text": [
      "우리식당에 오신것을 환영합니다. 메뉴는 다음과 같습니다.\n",
      "- 햄버거(입력 b) \n",
      "- 치킨(입력 c) \n",
      "- 피자(입력 p)\n",
      "피자을 선택하였습니다.\n"
     ]
    }
   ],
   "source": [
    "print('우리식당에 오신것을 환영합니다. 메뉴는 다음과 같습니다.')\n",
    "print('- 햄버거(입력 b) \\n- 치킨(입력 c) \\n- 피자(입력 p)')\n",
    "menu = {\n",
    "    'b': '버거',\n",
    "    'c': '치킨',\n",
    "    'p': '피자'\n",
    "}\n",
    "order = input('메뉴를 선택하세요(알파벳 b, c, p 입력) : ')\n",
    "if order in menu:\n",
    "    print(\"{}을 선택하였습니다.\".format(menu[order]))\n",
    "else:\n",
    "    print(\"선택한 메뉴가 없습니다.\")"
   ]
  },
  {
   "cell_type": "markdown",
   "metadata": {},
   "source": [
    "## 4.7"
   ]
  },
  {
   "cell_type": "code",
   "execution_count": 5,
   "metadata": {},
   "outputs": [
    {
     "name": "stdout",
     "output_type": "stream",
     "text": [
      "43 + 34 = 77\n",
      "잘했어요!!\n"
     ]
    }
   ],
   "source": [
    "import random\n",
    "\n",
    "x = random.randint(1, 100)\n",
    "y = random.randint(1, 100)\n",
    "\n",
    "print(x, '+', y, '=', end = ' ')\n",
    "answer = int(input())\n",
    "\n",
    "if answer==x+y:  \n",
    "    print(\"잘했어요!!\")\n",
    "else:\n",
    "    print(\"정답은\", x+y, \"입니다.\")"
   ]
  },
  {
   "cell_type": "markdown",
   "metadata": {},
   "source": [
    "## 4.8"
   ]
  },
  {
   "cell_type": "code",
   "execution_count": 1,
   "metadata": {},
   "outputs": [
    {
     "name": "stdout",
     "output_type": "stream",
     "text": [
      "1)덧셈 2)뺄셈 3)곱셈 4)나눗셈\n",
      "어떤 연산을 원하는지 번호를 입력하세요: 4\n",
      "연산을 원하는 숫자 두개를 입력하세요\n",
      "3 4\n",
      "3 / 4 = 0.75\n"
     ]
    }
   ],
   "source": [
    "print('1)덧셈', '2)뺄셈', '3)곱셈', '4)나눗셈')\n",
    "\n",
    "operation = int(input(\"어떤 연산을 원하는지 번호를 입력하세요: \"))\n",
    "\n",
    "if operation not in [1, 2, 3, 4]:\n",
    "    print(\"잘못 입력하였습니다.\")\n",
    "else:\n",
    "    print('연산을 원하는 숫자 두개를 입력하세요')\n",
    "    num1, num2 = map(int,input(\"\").split())\n",
    "\n",
    "    if operation == 1:\n",
    "        result = num1 + num2\n",
    "        print(num1, '+', num2, '=', result)\n",
    "    elif operation == 2:\n",
    "        result = num1 - num2\n",
    "        print(num1, '-', num2,'=', result)\n",
    "    elif operation == 3:\n",
    "        result = num1 * num2\n",
    "        print(num1, '*', num2, '=', result)\n",
    "    elif operation == 4:\n",
    "        if num2 == 0:\n",
    "            print(\"0으로 나눌 수 없습니다.\")\n",
    "        else:\n",
    "            result = num1 / num2\n",
    "            print(num1, '/', num2, '=', result)"
   ]
  },
  {
   "cell_type": "markdown",
   "metadata": {},
   "source": [
    "## 4.9"
   ]
  },
  {
   "cell_type": "code",
   "execution_count": 1,
   "metadata": {},
   "outputs": [],
   "source": [
    "import turtle\n",
    "turtle.shape('turtle')\n",
    "\n",
    "\n",
    "left_bottom = turtle.textinput(\"Python Turtle Graphics\", \"왼쪽 하단 모서리 좌표 (x, y): \").split(\" \")\n",
    "left_bottom_x = float(left_bottom[0])\n",
    "left_bottom_y = float(left_bottom[1])\n",
    "\n",
    "right_top = turtle.textinput(\"Python Turtle Graphics\", \"오른쪽 상단 모서리 좌표 (x, y): \").split(\" \")\n",
    "right_top_x = float(right_top[0])\n",
    "right_top_y = float(right_top[1])\n",
    "\n",
    "point = turtle.textinput(\"Python Turtle Graphics\", \"임의의 점 좌표 (x, y): \").split(\" \")\n",
    "point_x = float(point[0])\n",
    "point_y = float(point[1])\n",
    "\n",
    "\n",
    "turtle.penup()\n",
    "turtle.goto(left_bottom_x, left_bottom_y)\n",
    "turtle.pendown()\n",
    "turtle.goto(right_top_x, left_bottom_y)\n",
    "turtle.goto(right_top_x, right_top_y)\n",
    "turtle.goto(left_bottom_x, right_top_y)\n",
    "turtle.goto(left_bottom_x, left_bottom_y)\n",
    "turtle.penup()\n",
    "\n",
    "turtle.goto(point_x, point_y)\n",
    "turtle.dot(20)\n",
    "\n",
    "if left_bottom_x < point_x < right_top_x and left_bottom_y < point_y < right_top_y:\n",
    "    turtle.write(\"점은 사각형의 내부에 있습니다.\")\n",
    "else:\n",
    "    turtle.write(\"점은 사각형의 외부에 있습니다.\")\n",
    "\n",
    "turtle.done()"
   ]
  }
 ],
 "metadata": {
  "kernelspec": {
   "display_name": "Python 3 (ipykernel)",
   "language": "python",
   "name": "python3"
  },
  "language_info": {
   "codemirror_mode": {
    "name": "ipython",
    "version": 3
   },
   "file_extension": ".py",
   "mimetype": "text/x-python",
   "name": "python",
   "nbconvert_exporter": "python",
   "pygments_lexer": "ipython3",
   "version": "3.11.5"
  }
 },
 "nbformat": 4,
 "nbformat_minor": 4
}
