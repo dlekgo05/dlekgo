{
 "cells": [
  {
   "cell_type": "code",
   "execution_count": null,
   "metadata": {},
   "outputs": [],
   "source": [
    "try:\n",
    "    file = open(\"info.txt\", \"w\")\n",
    "    예외.발생해라()\n",
    "    file.close()\n",
    "except:\n",
    "    print(\"오류가 발생했습니다.\")\n",
    "    \n",
    "print(\"# 파일이 제대로 닫혔는지 확인하기\")\n",
    "print(\"file.closed:\", file.closed)"
   ]
  },
  {
   "cell_type": "code",
   "execution_count": null,
   "metadata": {},
   "outputs": [],
   "source": [
    "try:\n",
    "    file = open(\"info.txt\", \"w\")\n",
    "    예외.발생해라()\n",
    "except:\n",
    "    print(\"오류가 발생했습니다.\")\n",
    "finally:\n",
    "    file.close()\n",
    "print(\"# 파일이 제대로 닫혔는지 확인하기\")\n",
    "print(\"file.closed:\", file.closed)"
   ]
  },
  {
   "cell_type": "code",
   "execution_count": null,
   "metadata": {},
   "outputs": [],
   "source": [
    "def test():\n",
    "    print(\"test() 함수의 첫 줄입니다.\")\n",
    "    try:\n",
    "        print(\"try 구문이 실행되었습니다.\")\n",
    "        return\n",
    "        print(\"try 구문의 return 키워드 뒤입니다.\")\n",
    "    except:\n",
    "        print(\"except 구문이 실행되었습니다.\")\n",
    "    else:\n",
    "        print(\"else 구문이 실행되었습니다.\")\n",
    "    finally:\n",
    "        print(\"finally 구문이 실행되었습니다.\")\n",
    "    print(\"test() 함수의 마지막 줄입니다.\")\n",
    "\n",
    "test()"
   ]
  },
  {
   "cell_type": "code",
   "execution_count": null,
   "metadata": {},
   "outputs": [],
   "source": [
    "def write_text_file(filename, text):\n",
    "\n",
    "    try:\n",
    "        file = open(filename, \"w\")\n",
    "        return\n",
    "        file.write(text)\n",
    "    except Exception as e:\n",
    "        print(e)\n",
    "    finally:\n",
    "        file.close()\n",
    "\n",
    "write_text_file(\"test.txt\", \"안녕하세요!\")"
   ]
  },
  {
   "cell_type": "code",
   "execution_count": null,
   "metadata": {},
   "outputs": [],
   "source": [
    "print(\"프로그램이 시작되었습니다.\")\n",
    "\n",
    "while True:\n",
    "    try:\n",
    "        print(\"try 구문이 실행되었습니다.\")\n",
    "        break\n",
    "        print(\"try 구문의 break 키워드 뒤입니다.\")\n",
    "    except:\n",
    "        print(\"except 구문이 실행되었습니다.\")\n",
    "    finally:\n",
    "        print(\"finally 구문이 실행되었습니다.\")\n",
    "    print(\"while 반복문의 마지막 줄입니다.\")\n",
    "print(\"프로그램이 종료되었습니다.\")"
   ]
  },
  {
   "cell_type": "code",
   "execution_count": null,
   "metadata": {},
   "outputs": [],
   "source": [
    "try:\n",
    "    number_input_a = int(input(\"정수 입력> \"))\n",
    "    print(\"원의 반지름:\", number_input_a)\n",
    "    print(\"원의 둘레:\", 2*3.14*number_input_a)\n",
    "    print(\"원의 넓이:\", 3.14*number_input_a*number_input_a)\n",
    "except Exception as exception:\n",
    "    print(\"type(exception):\", type(exception))\n",
    "    print(\"exception:\", exception)"
   ]
  },
  {
   "cell_type": "code",
   "execution_count": null,
   "metadata": {},
   "outputs": [],
   "source": [
    "list_number = [52, 273, 32, 72, 100]\n",
    "\n",
    "try:\n",
    "    number_input = int(input(\"정수 입력> \"))\n",
    "    print(\"{}번째 요소: {}\".format(number_input, list_number[number_input]))\n",
    "except Exception as exception:\n",
    "    print(\"type(exception):\", type(exception))\n",
    "    print(\"exception:\", exception)"
   ]
  },
  {
   "cell_type": "code",
   "execution_count": null,
   "metadata": {},
   "outputs": [],
   "source": [
    "list_number = [52, 273, 32, 72, 100]\n",
    "\n",
    "try:\n",
    "    number_input = int(input(\"정수 입력> \"))\n",
    "    print(\"{}번째 요소: {}\".format(number_input, list_number[number_input]))\n",
    "except ValueError:\n",
    "    print(\"정수를 입력해 주세요!\")\n",
    "except IndexError:\n",
    "    print(\"리스트의 인덱스를 벗어났어요!\")"
   ]
  },
  {
   "cell_type": "code",
   "execution_count": null,
   "metadata": {},
   "outputs": [],
   "source": [
    "list_number = [52, 273, 32, 72, 100]\n",
    "\n",
    "try:\n",
    "    number_input = int(input(\"정수 입력> \"))\n",
    "    print(\"{}번째 요소: {}\".format(number_input, list_number[number_input]))\n",
    "except ValueError as exception:\n",
    "    print(\"정수를 입력해 주세요!\")\n",
    "    print(\"exception:\", exception)\n",
    "except IndexError as exception:\n",
    "    print(\"리스트의 인덱스를 벗어났어요!\")\n",
    "    print(\"exception:\", exception)"
   ]
  },
  {
   "cell_type": "code",
   "execution_count": null,
   "metadata": {},
   "outputs": [],
   "source": [
    "list_number = [52, 273, 32, 72, 100]\n",
    "\n",
    "try:\n",
    "    number_input = int(input(\"정수 입력> \"))\n",
    "    print(\"{}번째 요소: {}\".format(number_input, list_number[number_input]))\n",
    "    예외.발생해주세요()\n",
    "except ValueError as exception:\n",
    "    print(\"정수를 입력해 주세요!\")\n",
    "    print(\"exception:\", exception)\n",
    "except IndexError as exception:\n",
    "    print(\"리스트의 인덱스를 벗어났어요!\")\n",
    "    print(\"exception:\", exception)"
   ]
  },
  {
   "cell_type": "code",
   "execution_count": null,
   "metadata": {},
   "outputs": [],
   "source": [
    "list_number = [52, 273, 32, 72, 100]\n",
    "\n",
    "try:\n",
    "    number_input = int(input(\"정수 입력> \"))\n",
    "    print(\"{}번째 요소: {}\".format(number_input, list_number[number_input]))\n",
    "    예외.발생해주세요()\n",
    "except ValueError as exception:\n",
    "    print(\"정수를 입력해 주세요!\")\n",
    "    print(\"exception:\", exception)\n",
    "except IndexError as exception:\n",
    "    print(\"리스트의 인덱스를 벗어났어요!\")\n",
    "    print(\"exception:\", exception)\n",
    "except Exception as exception:\n",
    "    print(\"미리 파악하지 못한 예외가 발생했습니다.\")\n",
    "    print(type(exeption), exception)"
   ]
  },
  {
   "cell_type": "code",
   "execution_count": null,
   "metadata": {},
   "outputs": [],
   "source": [
    "import random\n",
    "print(\"# random 모듈\")\n",
    "print(\"- random():\", random.random())\n",
    "print(\"- uniform(10,20):\", random.uniform(10,20))\n",
    "print(\"- randrage(10):\", random.randrange(10))\n",
    "print(\"- choice([1, 2, 3, 4, 5]):\", random.choice([1, 2, 3, 4, 5]))\n",
    "print(\"- shuffle([1, 2, 3, 4, 5]):\", random.shuffle([1, 2, 3, 4, 5]))\n",
    "print(\"- sample([1, 2, 3, 4, 5], k=2):\", random.sample([1, 2, 3, 4, 5], k=2))"
   ]
  },
  {
   "cell_type": "code",
   "execution_count": null,
   "metadata": {},
   "outputs": [],
   "source": [
    "import sys\n",
    "print(sys.argv)\n",
    "print(\"---\")\n",
    "\n",
    "print(\"getwindowsversion: ()\", sys.getwindowsversion())\n",
    "print(\"---\")\n",
    "print(\"copyright:\", sys.copyright)\n",
    "print(\"---\")\n",
    "print(\"version:\", sys.version)\n",
    "\n",
    "sys.exit()"
   ]
  },
  {
   "cell_type": "code",
   "execution_count": null,
   "metadata": {},
   "outputs": [],
   "source": [
    "import os\n",
    "print(\"현재 운영체제:\", os.name)\n",
    "print(\"현재 폴더:\", os.getcwd())\n",
    "print(\"현재 폴더 내부의 요소:\", os.listdir())\n",
    "\n",
    "os.mkdir(\"hello\")\n",
    "os.rmdir(\"hello\")\n",
    "\n",
    "with open(\"original.txt\", \"w\") as file:\n",
    "    file.write(\"hello\")\n",
    "os.rename(\"original.txt\", \"new.txt\")\n",
    "\n",
    "os.remove(\"new.txt\")\n",
    "\n",
    "os.system(\"dir\")"
   ]
  },
  {
   "cell_type": "code",
   "execution_count": null,
   "metadata": {},
   "outputs": [],
   "source": [
    "import datetime\n",
    "\n",
    "print(\"# 현재 시각 출력하기\")\n",
    "now = datetime.datetime.now()\n",
    "print(now.year, \"년\")\n",
    "print(now.month, \"월\")\n",
    "print(now.day, \"일\")\n",
    "print(now.hour, \"시\")\n",
    "print(now.minute, \"분\")\n",
    "print(now.second, \"초\")\n",
    "print()\n",
    "\n",
    "print(\"# 시간을 포맷에 맞춰 출력하기\")\n",
    "output_a = now.strftime(\"%Y.%m.%d %H:%M:%S\")\n",
    "output_b = \"{}년 {}월 {}시 {}분 {}초\".format(now.year,\\\n",
    "    now.month,\\\n",
    "    now.day,\\\n",
    "    now.hour,\\\n",
    "    now.minute,\\\n",
    "    now.second)\n",
    "output_c = now.strftime(\"%Y{} %m{} %d{} %H{} %M{} %S{}\").format(*\"년월일시분초\")\n",
    "print(output_a)\n",
    "print(output_b)\n",
    "print(output_c)\n",
    "print()"
   ]
  },
  {
   "cell_type": "code",
   "execution_count": null,
   "metadata": {},
   "outputs": [],
   "source": [
    "import datetime\n",
    "now = datetime.datetime.now()\n",
    "\n",
    "print(\"#datetime.timedelta로 시간 더하기\")\n",
    "after = now + datetime.timedelta(\\\n",
    "    weeks=1,\\\n",
    "    days=1,\\\n",
    "    hours=1,\\\n",
    "    minutes=1,\\\n",
    "    seconds=1)\n",
    "print(after.strftime(\"%Y{} %m{} %d{} %H{} %M{} %S{}\").format(*\"년월일시분초\"))\n",
    "print()\n",
    "\n",
    "print(\"#now.replace()로 1년 더하기\")\n",
    "output = now.replace(year=(now.year + 1))\n",
    "print(output.strftime(\"%Y{} %m{} %d{} %H{} %M{} %S{}\").format(*\"년월일시분초\"))"
   ]
  },
  {
   "cell_type": "code",
   "execution_count": null,
   "metadata": {},
   "outputs": [],
   "source": [
    "import time\n",
    "print(\"지금부터 5초 동안 정지합니다!\")\n",
    "time.sleep(5)\n",
    "print(\"프로그램을 종료합니다\")"
   ]
  },
  {
   "cell_type": "code",
   "execution_count": null,
   "metadata": {},
   "outputs": [],
   "source": [
    "from urllib import request\n",
    "\n",
    "target = request.urlopen(\"https://google.com\")\n",
    "output = target.read()\n",
    "\n",
    "print(output)"
   ]
  },
  {
   "cell_type": "code",
   "execution_count": null,
   "metadata": {},
   "outputs": [],
   "source": [
    "from urllib import request\n",
    "from bs4 import BeautifulSoup\n",
    "\n",
    "target = request.urlopen(\"http://www.kma.go.kr/weather/forecast/mid-term-rss3.jsp?stnId=108\")\n",
    "\n",
    "soup = BeautifulSoup(target, \"html.parser\")\n",
    "\n",
    "for location in soup.select(\"location\"):\n",
    "    print(\"도시:\", location.select_one(\"city\").string)\n",
    "    print(\"날씨:\", location.select_one(\"wf\").string)\n",
    "    print(\"최저기온:\", location.select_one(\"tmn\").string)\n",
    "    print(\"최고기온:\", location.select_one(\"tmx\").string)\n",
    "    print()"
   ]
  },
  {
   "cell_type": "code",
   "execution_count": null,
   "metadata": {},
   "outputs": [],
   "source": [
    "from flask import Flask\n",
    "app = Flask(__name__)\n",
    "\n",
    "@app.route(\"/\")\n",
    "def hello():\n",
    "    return  \"<h1>Hello World!</h1>\""
   ]
  },
  {
   "cell_type": "code",
   "execution_count": null,
   "metadata": {},
   "outputs": [],
   "source": [
    "def test(function):\n",
    "    def wrapper():\n",
    "        print(\"인사가 시작되었습니다.\")\n",
    "        function()\n",
    "        print(\"인사가 종료되었습니다.\")\n",
    "    return wrapper\n",
    "@test\n",
    "def hello():\n",
    "    print(\"hello\")\n",
    "\n",
    "hello()"
   ]
  },
  {
   "cell_type": "code",
   "execution_count": null,
   "metadata": {},
   "outputs": [],
   "source": [
    "PI = 3.141592\n",
    "\n",
    "def number_input():\n",
    "    output = input(\"숫자 입력> \")\n",
    "    return float(output)\n",
    "\n",
    "def get_circumference(radius):\n",
    "    return 2*PI*radius\n",
    "\n",
    "def get_circle_area(radius):\n",
    "    return PI*radius*radius"
   ]
  },
  {
   "cell_type": "code",
   "execution_count": null,
   "metadata": {},
   "outputs": [],
   "source": [
    "import test_module as test\n",
    "\n",
    "radius = test.number_input()\n",
    "print(test.get_circumference(radius))\n",
    "print(test.get_circle_area(radius))"
   ]
  },
  {
   "cell_type": "code",
   "execution_count": null,
   "metadata": {},
   "outputs": [],
   "source": [
    "import test_module\n",
    "\n",
    "print(\"# 메인의 __name__ 출력하기\")\n",
    "print(__name__)\n",
    "print()"
   ]
  },
  {
   "cell_type": "code",
   "execution_count": null,
   "metadata": {},
   "outputs": [],
   "source": [
    "PI = 3.141592\n",
    "\n",
    "def number_input():\n",
    "    output = input(\"숫자 입력> \")\n",
    "    return float(output)\n",
    "\n",
    "def get_circumference(radius):\n",
    "    return 2*PI*radius\n",
    "\n",
    "def get_circle_area(radius):\n",
    "    return PI*radius*radius\n",
    "\n",
    "print(\"get_circumference(10):\", get_circumference(10))\n",
    "print(\"get_circle_area(10): \", get_circle_area(10))"
   ]
  },
  {
   "cell_type": "code",
   "execution_count": null,
   "metadata": {},
   "outputs": [],
   "source": [
    "PI = 3.141592\n",
    "\n",
    "def number_input():\n",
    "    output = input(\"숫자 입력> \")\n",
    "    return float(output)\n",
    "\n",
    "def get_circumference(radius):\n",
    "    return 2*PI*radius\n",
    "\n",
    "def get_circle_area(radius):\n",
    "    return PI*radius*radius\n",
    "\n",
    "if __name__ ==\"__main__\":\n",
    "    print(\"get_circumference(10):\", get_circumference(10))\n",
    "    print(\"get_circle_area(10): \", get_circle_area(10))"
   ]
  },
  {
   "cell_type": "code",
   "execution_count": null,
   "metadata": {},
   "outputs": [],
   "source": [
    "import test_package.module_a as a\n",
    "import test_package.module_b as b\n",
    "\n",
    "print(a.variable_a)\n",
    "print(b.variable_b)"
   ]
  },
  {
   "cell_type": "code",
   "execution_count": null,
   "metadata": {},
   "outputs": [],
   "source": [
    "from urllib import request\n",
    "\n",
    "targat = repuest.urlopen(\"https://www.hanbit.co.ke/images/commom/logo_hanbit.png\")\n",
    "output = target.read()\n",
    "print(output)\n",
    "\n",
    "file = open(\"ouput.png\", \"wb\")\n",
    "file.write(output)\n",
    "file.close()"
   ]
  },
  {
   "cell_type": "code",
   "execution_count": null,
   "metadata": {},
   "outputs": [],
   "source": [
    "class Student:\n",
    "    def study(self):\n",
    "        print(\"공부를 합니다.\")\n",
    "\n",
    "class Teacher:\n",
    "    def teach(self):\n",
    "        print(\"학생을 가르칩니다.\")\n",
    "\n",
    "classroom = [Student(), Student(), Teacher(), Student(), Student()]\n",
    "\n",
    "for person in classroom:\n",
    "    if isinstance(person, Student):\n",
    "        person.study()\n",
    "    elif isinstance(person, Teacher):\n",
    "        person.teach()"
   ]
  },
  {
   "cell_type": "code",
   "execution_count": null,
   "metadata": {},
   "outputs": [],
   "source": [
    "class Student:\n",
    "    def __init__(self, name, korean, math, english, science):\n",
    "        self.name = name\n",
    "        self.korean = korean\n",
    "        self.math = math\n",
    "        self.english = english\n",
    "        self.science = science\n",
    "\n",
    "    def get_sum(self):\n",
    "        return self.korean + self.math +\\\n",
    "            self.english + self.science\n",
    "    \n",
    "    def get_average(self):\n",
    "        return self.get_sum() / 4\n",
    "    \n",
    "    def __str__(self):\n",
    "        return \"{}\\t{}\\t{}\".format(\n",
    "            self.name,\n",
    "            self.get_sum(),\n",
    "            self.get_average())\n",
    "    \n",
    "    stuents = [\n",
    "        Student(\"윤인성\", 87, 98, 88, 95),\n",
    "        Student(\"연하진\", 92, 98, 96, 98),\n",
    "        Student(\"구지연\", 76, 96, 94, 90),\n",
    "        Student(\"나선주\", 98, 92, 96, 92),\n",
    "        Student(\"윤아린\", 95, 98, 98, 98),\n",
    "        Student(\"윤명월\", 64, 88, 92, 92)\n",
    "    ]\n",
    "\n",
    "print(\"이름\", \"총점\", \"평균\", sep=\"\\t\")\n",
    "for student in students:\n",
    "    print(str(student))"
   ]
  },
  {
   "cell_type": "code",
   "execution_count": null,
   "metadata": {},
   "outputs": [],
   "source": []
  }
 ],
 "metadata": {
  "kernelspec": {
   "display_name": "Python 3",
   "language": "python",
   "name": "python3"
  },
  "language_info": {
   "codemirror_mode": {
    "name": "ipython",
    "version": 3
   },
   "file_extension": ".py",
   "mimetype": "text/x-python",
   "name": "python",
   "nbconvert_exporter": "python",
   "pygments_lexer": "ipython3",
   "version": "3.11.2"
  },
  "orig_nbformat": 4
 },
 "nbformat": 4,
 "nbformat_minor": 2
}
